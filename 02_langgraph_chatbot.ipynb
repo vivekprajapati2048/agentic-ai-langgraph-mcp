{
 "cells": [
  {
   "cell_type": "markdown",
   "metadata": {},
   "source": [
    "### Implementing simple Chatbot Using LangGraph"
   ]
  },
  {
   "cell_type": "code",
   "execution_count": 1,
   "metadata": {},
   "outputs": [],
   "source": [
    "from typing_extensions import TypedDict\n",
    "\n",
    "from langgraph.graph import StateGraph, START, END\n",
    "\n",
    "## Reducers\n",
    "from typing import Annotated\n",
    "from langgraph.graph.message import add_messages"
   ]
  },
  {
   "cell_type": "code",
   "execution_count": 2,
   "metadata": {},
   "outputs": [],
   "source": [
    "class State(TypedDict):\n",
    "    messages: Annotated[list, add_messages]"
   ]
  },
  {
   "cell_type": "code",
   "execution_count": 3,
   "metadata": {},
   "outputs": [],
   "source": [
    "import os\n",
    "from dotenv import load_dotenv\n",
    "load_dotenv()\n",
    "\n",
    "os.environ[\"OPENAI_API_KEY\"] = os.getenv(\"OPENAI_API_KEY\")\n",
    "os.environ[\"GROQ_API_KEY\"] = os.getenv(\"GROQ_API_KEY\")"
   ]
  },
  {
   "cell_type": "code",
   "execution_count": 4,
   "metadata": {},
   "outputs": [
    {
     "data": {
      "text/plain": [
       "AIMessage(content='Hello! How can I assist you today?', additional_kwargs={'refusal': None}, response_metadata={'token_usage': {'completion_tokens': 9, 'prompt_tokens': 8, 'total_tokens': 17, 'completion_tokens_details': {'accepted_prediction_tokens': 0, 'audio_tokens': 0, 'reasoning_tokens': 0, 'rejected_prediction_tokens': 0}, 'prompt_tokens_details': {'audio_tokens': 0, 'cached_tokens': 0}}, 'model_name': 'gpt-4o-mini-2024-07-18', 'system_fingerprint': 'fp_34a54ae93c', 'id': 'chatcmpl-BmAzJqM73S2B8T1wOb8Gp5vzarBcn', 'service_tier': 'default', 'finish_reason': 'stop', 'logprobs': None}, id='run--7cfd3b8b-728f-4bd8-afa0-45caa23db131-0', usage_metadata={'input_tokens': 8, 'output_tokens': 9, 'total_tokens': 17, 'input_token_details': {'audio': 0, 'cache_read': 0}, 'output_token_details': {'audio': 0, 'reasoning': 0}})"
      ]
     },
     "execution_count": 4,
     "metadata": {},
     "output_type": "execute_result"
    }
   ],
   "source": [
    "from langchain_openai import ChatOpenAI\n",
    "llm = ChatOpenAI(model=\"gpt-4o-mini\")\n",
    "llm.invoke(\"Hello\")"
   ]
  },
  {
   "cell_type": "code",
   "execution_count": 5,
   "metadata": {},
   "outputs": [
    {
     "data": {
      "text/plain": [
       "AIMessage(content=\"\\n<think>\\nOkay, the user introduced himself as Vivek and mentioned he likes to play soccer. I should respond in a friendly way. Let me start by greeting him back. Maybe ask how long he's been playing or if he's part of a team. I can also mention some common soccer topics like favorite teams or players to keep the conversation going. Wait, should I use emojis here? The user didn't use any, but maybe a soccer ball emoji would be appropriate. Let me check the example response again. Oh right, the example used a soccer ball. I'll add that. Also, make sure to keep it open-ended so he feels comfortable sharing more. Maybe ask if he prefers playing or watching, or if there's a particular position he likes. Hmm, let me put that together in a natural way. Avoid making it too long. Alright, that should work.\\n</think>\\n\\nHey Vivek! That’s awesome! 👋⚽ How long have you been playing soccer? Do you prefer a specific position on the field or any favorite teams/players? Let me know—I’m a big soccer fan too!\", additional_kwargs={}, response_metadata={'token_usage': {'completion_tokens': 225, 'prompt_tokens': 22, 'total_tokens': 247, 'completion_time': 0.558143683, 'prompt_time': 0.004057138, 'queue_time': 0.13302953, 'total_time': 0.562200821}, 'model_name': 'qwen-qwq-32b', 'system_fingerprint': 'fp_98b01f25b2', 'finish_reason': 'stop', 'logprobs': None}, id='run--afd84e3c-60a5-4597-8eaf-8b049a1e2ab2-0', usage_metadata={'input_tokens': 22, 'output_tokens': 225, 'total_tokens': 247})"
      ]
     },
     "execution_count": 5,
     "metadata": {},
     "output_type": "execute_result"
    }
   ],
   "source": [
    "from langchain_groq import ChatGroq\n",
    "\n",
    "llm_groq = ChatGroq(model=\"qwen-qwq-32b\")\n",
    "llm_groq.invoke(\"Hey I am Vivek and I like to play soccer.\")"
   ]
  },
  {
   "cell_type": "markdown",
   "metadata": {},
   "source": [
    "### We Will start With Creating Nodes"
   ]
  },
  {
   "cell_type": "code",
   "execution_count": 7,
   "metadata": {},
   "outputs": [],
   "source": [
    "def superbot(state:State):\n",
    "    return {\"messages\": [llm_groq.invoke(state['messages'])]}"
   ]
  },
  {
   "cell_type": "code",
   "execution_count": 8,
   "metadata": {},
   "outputs": [
    {
     "data": {
      "image/png": "[encoded data removed]",
      "text/plain": [
       "<IPython.core.display.Image object>"
      ]
     },
     "metadata": {},
     "output_type": "display_data"
    }
   ],
   "source": [
    "graph = StateGraph(State)\n",
    "\n",
    "## node\n",
    "graph.add_node(\"SuperBot\", superbot)\n",
    "## Edges\n",
    "\n",
    "graph.add_edge(START, \"SuperBot\")\n",
    "graph.add_edge(\"SuperBot\", END)\n",
    "\n",
    "graph_builder = graph.compile()\n",
    "\n",
    "## Display\n",
    "from IPython.display import Image, display\n",
    "display(Image(graph_builder.get_graph().draw_mermaid_png()))"
   ]
  },
  {
   "cell_type": "code",
   "execution_count": 9,
   "metadata": {},
   "outputs": [
    {
     "data": {
      "text/plain": [
       "{'messages': [HumanMessage(content='Hi, My name is Vievk And I like Soccer', additional_kwargs={}, response_metadata={}, id='e8eb6663-1168-470b-a904-bce47dab63bf'),\n",
       "  AIMessage(content='\\n<think>\\nOkay, the user introduced themselves as Vievk and mentioned liking soccer. First, I should respond warmly to their greeting. Let me make sure to spell their name correctly—Vievk. Maybe they meant \"Veek\" or \"Vivek\"? But I\\'ll stick with Vievk as written.\\n\\nI should acknowledge their interest in soccer. Maybe ask a follow-up question to keep the conversation going. Let\\'s see, possible questions could be about their favorite team, players, or if they play soccer themselves. Since it\\'s their first message, keeping it friendly and open-ended is best.\\n\\nI need to check if my response is in a friendly and approachable tone. Also, make sure it\\'s not too long. Maybe something like, \"Hi Vievk! Nice to meet you! Soccer is an amazing sport. Do you follow any particular team or player?\" That should work. Let me put that together.\\n</think>\\n\\nHi Vievk! Nice to meet you! 🎉 Soccer is an amazing sport—do you follow any favorite teams or players? Feel free to share more about what you love most about it! ⚽', additional_kwargs={}, response_metadata={'token_usage': {'completion_tokens': 234, 'prompt_tokens': 22, 'total_tokens': 256, 'completion_time': 0.569536021, 'prompt_time': 0.003333898, 'queue_time': 0.019612077, 'total_time': 0.572869919}, 'model_name': 'qwen-qwq-32b', 'system_fingerprint': 'fp_1e88ca32eb', 'finish_reason': 'stop', 'logprobs': None}, id='run--e3e92501-468e-4d4e-8717-87bdcf2aa9ba-0', usage_metadata={'input_tokens': 22, 'output_tokens': 234, 'total_tokens': 256})]}"
      ]
     },
     "execution_count": 9,
     "metadata": {},
     "output_type": "execute_result"
    }
   ],
   "source": [
    "## Invocation\n",
    "\n",
    "graph_builder.invoke({'messages':\"Hi, My name is Vievk And I like Soccer\"})"
   ]
  },
  {
   "cell_type": "markdown",
   "metadata": {},
   "source": [
    "#### Streaming The responses"
   ]
  },
  {
   "cell_type": "code",
   "execution_count": 16,
   "metadata": {},
   "outputs": [
    {
     "name": "stdout",
     "output_type": "stream",
     "text": [
      "{'SuperBot': {'messages': [AIMessage(content='\\n<think>\\nOkay, the user said \"Hello My name is Vivek.\" I need to respond appropriately. First, I should greet them back. Let me start with a friendly \"Hello Vivek!\" to acknowledge their name. Then, I can offer assistance by asking how I can help them. Keeping it open-ended so they can ask anything they need. Maybe add an emoji to keep it warm and approachable. Let me check for any typos. Yep, that looks good. Alright, send.\\n</think>\\n\\nHello Vivek! 😊 How can I assist you today? Feel free to ask me any questions or let me know if you need help with anything specific!', additional_kwargs={}, response_metadata={'token_usage': {'completion_tokens': 134, 'prompt_tokens': 16, 'total_tokens': 150, 'completion_time': 0.326134601, 'prompt_time': 0.00320594, 'queue_time': 0.018251935, 'total_time': 0.329340541}, 'model_name': 'qwen-qwq-32b', 'system_fingerprint': 'fp_1e88ca32eb', 'finish_reason': 'stop', 'logprobs': None}, id='run--e2db53a0-cbb5-4a51-88bf-acd778972145-0', usage_metadata={'input_tokens': 16, 'output_tokens': 134, 'total_tokens': 150})]}}\n"
     ]
    }
   ],
   "source": [
    "for event in graph_builder.stream({\"messages\":\"Hello My name is Vivek\"}):  # , stream_mode=\"values\"\n",
    "    print(event)"
   ]
  },
  {
   "cell_type": "code",
   "execution_count": null,
   "metadata": {},
   "outputs": [],
   "source": []
  }
 ],
 "metadata": {
  "kernelspec": {
   "display_name": "venv",
   "language": "python",
   "name": "python3"
  },
  "language_info": {
   "codemirror_mode": {
    "name": "ipython",
    "version": 3
   },
   "file_extension": ".py",
   "mimetype": "text/x-python",
   "name": "python",
   "nbconvert_exporter": "python",
   "pygments_lexer": "ipython3",
   "version": "3.12.10"
  }
 },
 "nbformat": 4,
 "nbformat_minor": 2
}
