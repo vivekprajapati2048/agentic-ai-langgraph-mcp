{
 "cells": [
  {
   "cell_type": "markdown",
   "metadata": {},
   "source": [
    "# Chain Using LangGraph\n",
    "In this section we will see how we can build a simple chain using Langgraph that uses 4 important concepts\n",
    "\n",
    "- How to use chat messages as our graph state\n",
    "- How to use chat models in graph nodes\n",
    "- How to bind tools to our LLM in chat models\n",
    "- How to execute the tools call in our graph nodes "
   ]
  },
  {
   "cell_type": "code",
   "execution_count": 36,
   "metadata": {},
   "outputs": [],
   "source": [
    "from dotenv import load_dotenv\n",
    "load_dotenv()\n",
    "import os\n",
    "\n",
    "# Set API Keys from environment variables\n",
    "os.environ[\"OPENAI_API_KEY\"] = os.getenv(\"OPENAI_API_KEY\")\n",
    "os.environ[\"GROQ_API_KEY\"] = os.getenv(\"GROQ_API_KEY\")\n",
    "\n",
    "from langchain_core.messages import AIMessage, HumanMessage, AnyMessage\n",
    "from langchain_groq import ChatGroq\n",
    "from typing_extensions import TypedDict, Annotated\n",
    "from langgraph.graph.message import add_messages\n",
    "from langgraph.graph import StateGraph, START, END"
   ]
  },
  {
   "cell_type": "code",
   "execution_count": 37,
   "metadata": {},
   "outputs": [],
   "source": [
    "# define tool\n",
    "def add(a: int, b: int) -> int:\n",
    "    \"\"\"Add two numbers.\"\"\"\n",
    "    return a + b\n",
    "\n",
    "tools = [add]"
   ]
  },
  {
   "cell_type": "code",
   "execution_count": 38,
   "metadata": {},
   "outputs": [],
   "source": [
    "# define state\n",
    "class State(TypedDict):\n",
    "    messages: Annotated[list[AnyMessage], add_messages]"
   ]
  },
  {
   "cell_type": "code",
   "execution_count": 39,
   "metadata": {},
   "outputs": [],
   "source": [
    "# llm + tool binding\n",
    "llm = ChatGroq(model=\"qwen-qwq-32b\")\n",
    "llm_with_tools = llm.bind_tools(tools)"
   ]
  },
  {
   "cell_type": "code",
   "execution_count": 40,
   "metadata": {},
   "outputs": [],
   "source": [
    "# Node: LLM Tool node\n",
    "\n",
    "def llm_tool(state: State):\n",
    "    # Given the state, invoke the LLM (with tool support) on the message history\n",
    "    result = llm_with_tools.invoke(state[\"messages\"])\n",
    "    # Add the new LLM message to the state\n",
    "    return {\"messages\": add_messages(state[\"messages\"], result)}"
   ]
  },
  {
   "cell_type": "code",
   "execution_count": null,
   "metadata": {},
   "outputs": [
    {
     "data": {
      "image/png": "[encoded data removed]",
      "text/plain": [
       "<IPython.core.display.Image object>"
      ]
     },
     "metadata": {},
     "output_type": "display_data"
    }
   ],
   "source": [
    "# build the chain graph\n",
    "# You can use prebuilt helpers for tools logic (optional, but clean)\n",
    "from IPython.display import Image, display\n",
    "from langgraph.prebuilt import ToolNode, tools_condition\n",
    "\n",
    "builder = StateGraph(State)\n",
    "\n",
    "# Add nodes\n",
    "builder.add_node(\"llm_tool\", llm_tool)\n",
    "builder.add_node(\"tools\", ToolNode(tools))\n",
    "\n",
    "# Add edges\n",
    "builder.add_edge(START, \"llm_tool\")\n",
    "builder.add_conditional_edges(\n",
    "    \"llm_tool\",\n",
    "    tools_condition  # routes to either tools node (if tool_call), else END\n",
    ")\n",
    "builder.add_edge(\"tools\", END)\n",
    "\n",
    "# Compile graph\n",
    "graph = builder.compile()\n",
    "\n",
    "display(Image(graph.get_graph().draw_mermaid_png()))"
   ]
  },
  {
   "cell_type": "code",
   "execution_count": 42,
   "metadata": {},
   "outputs": [
    {
     "name": "stdout",
     "output_type": "stream",
     "text": [
      "================================\u001b[1m Human Message \u001b[0m=================================\n",
      "Name: Vivek\n",
      "\n",
      "What is 2 plus 2\n",
      "==================================\u001b[1m Ai Message \u001b[0m==================================\n",
      "Tool Calls:\n",
      "  add (6gtezz34m)\n",
      " Call ID: 6gtezz34m\n",
      "  Args:\n",
      "    a: 2\n",
      "    b: 2\n",
      "=================================\u001b[1m Tool Message \u001b[0m=================================\n",
      "Name: add\n",
      "\n",
      "4\n"
     ]
    }
   ],
   "source": [
    "# ask mathematics question - tool will be called\n",
    "\n",
    "initial_messages = [\n",
    "    HumanMessage(content=\"What is 2 plus 2\", name=\"Vivek\")\n",
    "]\n",
    "\n",
    "state = {\"messages\": initial_messages}\n",
    "result = graph.invoke(state)\n",
    "for message in result[\"messages\"]:\n",
    "    message.pretty_print()"
   ]
  },
  {
   "cell_type": "code",
   "execution_count": 43,
   "metadata": {},
   "outputs": [
    {
     "name": "stdout",
     "output_type": "stream",
     "text": [
      "================================\u001b[1m Human Message \u001b[0m=================================\n",
      "Name: Vivek\n",
      "\n",
      "What is Machine Learning?\n",
      "==================================\u001b[1m Ai Message \u001b[0m==================================\n",
      "\n",
      "Machine Learning is a subset of artificial intelligence (AI) that focuses on developing algorithms and statistical models. These algorithms enable computers to improve their performance on a specific task over time by learning patterns from data, rather than relying solely on explicit instructions. Essentially, it allows systems to automatically improve through experience. Common applications include image recognition, spam detection, and recommendation systems.\n"
     ]
    }
   ],
   "source": [
    "# normal question - no tool involved\n",
    "initial_messages = [\n",
    "    HumanMessage(content=\"What is Machine Learning?\", name=\"Vivek\")\n",
    "]\n",
    "\n",
    "state = {\"messages\": initial_messages}\n",
    "result = graph.invoke(state)\n",
    "for message in result[\"messages\"]:\n",
    "    message.pretty_print()\n"
   ]
  },
  {
   "cell_type": "markdown",
   "metadata": {},
   "source": [
    "#### How to use chat messages as our graph state\n",
    "##### Messages\n",
    "\n",
    "We can use messages which can be used to capture different roles within a conversation.\n",
    "LangChain has various message types including HumanMessage, AIMessage, SystemMessage and ToolMessage.\n",
    "These represent a message from the user, from chat model, for the chat model to instruct behavior, and from a tool call.\n",
    "\n",
    "Every message have these important components.\n",
    "\n",
    "- content - content of the message\n",
    "- name - Specify the name of author\n",
    "- response_metadata - optionally, a dict of metadata (e.g., often populated by model provider for AIMessages)\n",
    "\n"
   ]
  },
  {
   "cell_type": "markdown",
   "metadata": {},
   "source": [
    "### Tools\n",
    "Tools can be integrated with the LLM models to interact with external systems. External systems can be API's, third party tools.\n",
    "\n",
    "Whenever a query is asked the model can choose to call the tool and this query is based on the \n",
    "natural language input and this will return an output that matches the tool's schema"
   ]
  },
  {
   "cell_type": "markdown",
   "metadata": {},
   "source": [
    "#### Reducers\n",
    "Now, we have a minor problem!\n",
    "\n",
    "As we discussed, each node will return a new value for our state key messages.\n",
    "\n",
    "But, this new value will override the prior messages value.\n",
    "\n",
    "As our graph runs, we want to append messages to our messages state key.\n",
    "\n",
    "We can use reducer functions to address this.\n",
    "\n",
    "Reducers allow us to specify how state updates are performed.\n",
    "\n",
    "If no reducer function is specified, then it is assumed that updates to the key should override it as we saw before.\n",
    "\n",
    "But, to append messages, we can use the pre-built add_messages reducer.\n",
    "\n",
    "This ensures that any messages are appended to the existing list of messages.\n",
    "\n",
    "We simply need to annotate our messages key with the add_messages reducer function as metadata."
   ]
  }
 ],
 "metadata": {
  "kernelspec": {
   "display_name": "venv",
   "language": "python",
   "name": "python3"
  },
  "language_info": {
   "codemirror_mode": {
    "name": "ipython",
    "version": 3
   },
   "file_extension": ".py",
   "mimetype": "text/x-python",
   "name": "python",
   "nbconvert_exporter": "python",
   "pygments_lexer": "ipython3",
   "version": "3.12.10"
  }
 },
 "nbformat": 4,
 "nbformat_minor": 2
}
