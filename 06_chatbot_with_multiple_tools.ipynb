{
 "cells": [
  {
   "cell_type": "markdown",
   "metadata": {},
   "source": [
    "### Building Chatbot With Multiple Tools Using Langgraph\n",
    "\n",
    "#### Aim\n",
    "Create a chatbot with tool capabilities from arxiv, wikipedia search and some functions"
   ]
  },
  {
   "cell_type": "code",
   "execution_count": 10,
   "metadata": {},
   "outputs": [],
   "source": [
    "from langchain_community.tools import ArxivQueryRun, WikipediaQueryRun\n",
    "from langchain_community.utilities import WikipediaAPIWrapper, ArxivAPIWrapper\n",
    "\n",
    "# from langchain_community.tools.tavily_search import TavilySearchResults\n",
    "from langchain_community.tools import TavilySearchResults\n",
    "\n",
    "from langchain_groq import ChatGroq\n",
    "from pprint import pprint\n",
    "from langchain_core.messages import AIMessage, HumanMessage\n",
    "\n",
    "from dotenv import load_dotenv\n",
    "load_dotenv()\n",
    "import os\n",
    "\n",
    "os.environ[\"TAVILY_API_KEY\"]=os.getenv(\"TAVILY_API_KEY\")\n",
    "os.environ[\"GROQ_API_KEY\"]=os.getenv(\"GROQ_API_KEY\")"
   ]
  },
  {
   "cell_type": "code",
   "execution_count": 5,
   "metadata": {},
   "outputs": [
    {
     "name": "stdout",
     "output_type": "stream",
     "text": [
      "arxiv\n"
     ]
    }
   ],
   "source": [
    "api_wrapper_arxiv = ArxivAPIWrapper(top_k_results=2, doc_content_chars_max=500)\n",
    "arxiv = ArxivQueryRun(api_wrapper=api_wrapper_arxiv)\n",
    "print(arxiv.name)"
   ]
  },
  {
   "cell_type": "code",
   "execution_count": 6,
   "metadata": {},
   "outputs": [
    {
     "data": {
      "text/plain": [
       "\"Published: 2024-07-22\\nTitle: Attention Is All You Need But You Don't Need All Of It For Inference of Large Language Models\\nAuthors: Georgy Tyukin, Gbetondji J-S Dovonon, Jean Kaddour, Pasquale Minervini\\nSummary: The inference demand for LLMs has skyrocketed in recent months, and serving\\nmodels with low latencies remains challenging due to the quadratic input length\\ncomplexity of the attention layers. In this work, we investigate the effect of\\ndropping MLP and attention layers at inference time o\""
      ]
     },
     "execution_count": 6,
     "metadata": {},
     "output_type": "execute_result"
    }
   ],
   "source": [
    "arxiv.invoke(\"Attention iss all you need\")"
   ]
  },
  {
   "cell_type": "code",
   "execution_count": 7,
   "metadata": {},
   "outputs": [
    {
     "data": {
      "text/plain": [
       "'wikipedia'"
      ]
     },
     "execution_count": 7,
     "metadata": {},
     "output_type": "execute_result"
    }
   ],
   "source": [
    "api_wrapper_wiki = WikipediaAPIWrapper(top_k_results=1, doc_content_chars_max=500)\n",
    "wiki = WikipediaQueryRun(api_wrapper=api_wrapper_wiki)\n",
    "wiki.name"
   ]
  },
  {
   "cell_type": "code",
   "execution_count": 8,
   "metadata": {},
   "outputs": [
    {
     "data": {
      "text/plain": [
       "'Page: Machine learning\\nSummary: Machine learning (ML) is a field of study in artificial intelligence concerned with the development and study of statistical algorithms that can learn from data and generalise to unseen data, and thus perform tasks without explicit instructions. Within a subdiscipline in machine learning, advances in the field of deep learning have allowed neural networks, a class of statistical algorithms, to surpass many previous machine learning approaches in performance.\\nML fi'"
      ]
     },
     "execution_count": 8,
     "metadata": {},
     "output_type": "execute_result"
    }
   ],
   "source": [
    "wiki.invoke(\"What is machine learning\")"
   ]
  },
  {
   "cell_type": "code",
   "execution_count": 3,
   "metadata": {},
   "outputs": [
    {
     "name": "stderr",
     "output_type": "stream",
     "text": [
      "/var/folders/0r/vjph02mj11n18w0qm1wh0zfr0000gn/T/ipykernel_4141/2750730848.py:1: LangChainDeprecationWarning: The class `TavilySearchResults` was deprecated in LangChain 0.3.25 and will be removed in 1.0. An updated version of the class exists in the :class:`~langchain-tavily package and should be used instead. To use it run `pip install -U :class:`~langchain-tavily` and import as `from :class:`~langchain_tavily import TavilySearch``.\n",
      "  tavily = TavilySearchResults()\n"
     ]
    },
    {
     "data": {
      "text/plain": [
       "[{'title': '50 NEW Artificial Intelligence Statistics (June 2025) - Exploding Topics',\n",
       "  'url': 'https://explodingtopics.com/blog/ai-statistics',\n",
       "  'content': \"Google Assistant outranks its voice assistant competitors, such as Apple's Siri and Microsoft's Cortana, with an accuracy record of **98%** in navigation.\\n\\n|  |  |  |  |\\n| --- | --- | --- | --- |\\n| Type of question | Google Assistant | Siri | Alexa |\\n| Local | 93% | 89% | 85% |\\n| Commerce | 92% | 68% | 71% |\\n| Navigation | 98% | 86% | 72% |\\n| Information | 96% | 76% | 93% |\\n| Command | 86% | 93% | 69% |\\n\\n93%\\n\\n89%\\n\\n85%\\n\\n92%\\n\\n68%\\n\\n71%\\n\\n98%\\n\\n86%\\n\\n72%\\n\\n96%\\n\\n76%\\n\\n93%\\n\\n86%\\n\\n93%\\n\\n69% [...] | Increasing customer loyalty | 20% | 40% | ↑ 20% |\\n| Increasing long-term customer engagement | 19% | 44% | ↑ 25% |\\n| Building brand awareness | 14% | 31% | ↑ 17% |\\n| Other | 15% | 1% | ↓ 14% | [...] #### **Recent data indicates a substantial acceleration in the adoption of AI-powered applications ([Gartner](https://www.gartner.com/en/newsroom/press-releases/2019-07-15-gartner-survey-reveals-leading-organizations-expect-t))**\\n\\nOne key [AI application in business](https://www.semrush.com/apps/collection/ai-apps/) is\\xa0providing personalized product recommendations via consumer behavior forecasting and targeted advertising.\\n\\nPop-up marketing ads and chatbots are each examples of AI operations.\",\n",
       "  'score': 0.90791017},\n",
       " {'title': \"Canva's CTO encourages all 5,000 employees to find the AI tools ...\",\n",
       "  'url': 'https://fortune.com/2025/06/25/canva-cto-encourages-all-5000-employees-to-find-the-ai-tools-that-work-best-for-them/',\n",
       "  'content': '**Meta is hiring top AI talent, but skepticism on strategy is swirling.** Mark Zuckerberg is spending big bucks to bulk up in AI, including a\\xa0[$14.3 billion deal to invest in Scale AI and hire cofounder Alexandr Wang](https://fortune.com/2025/06/22/inside-rise-scale-alexandr-wang-meta-zuckerberg-14-billion-deal-acquihire-ai-supremacy-race/), exploring [takeovers of [...] ![](https://fortune.com/img-assets/wp-content/uploads/2025/06/Prove-AI-Report-Graphic-e1750869571507.png?w=1440&q=85)\\n\\n### JOBS RADAR\\n\\n**Hiring:**\\n\\n- **Candid Health** is [seeking a principal software engineer](https://www.linkedin.com/jobs/view/4252855162/?alternateChannel=search&refId=0Cv5yuknl3quGfWcU7xWxQ%3D%3D&trackingId=itH8w9l769l7amME1QjZDw%3D%3D), based in New York City. Posted salary range: $238K-$322K/year.',\n",
       "  'score': 0.8536326},\n",
       " {'title': 'AI News | Latest AI News, Analysis & Events',\n",
       "  'url': 'https://www.artificialintelligence-news.com/',\n",
       "  'content': 'NO FAKES Act: AI deepfakes protection or internet freedom threat? June 25, 2025. Salesforce',\n",
       "  'score': 0.84215075},\n",
       " {'title': 'Latest AI Breakthroughs and News: May-June 2025 - Crescendo.ai',\n",
       "  'url': 'https://www.crescendo.ai/news/latest-ai-news-and-updates',\n",
       "  'content': \"**Summary:** Chinese tech giant Baidu has announced plans to make its next-generation artificial intelligence model, Ernie, open-source by June 30, 2025. This strategic shift comes as competition intensifies, particularly from startups like DeepSeek, which offer open-source AI services. In addition to open-sourcing Ernie, Baidu will make its AI chatbot, Ernie Bot, freely available starting April 1. These initiatives aim to accelerate AI adoption and expand Baidu's market presence in the\",\n",
       "  'score': 0.834852},\n",
       " {'title': 'AI in Action | June 2025 - TechNet',\n",
       "  'url': 'https://www.technet.org/media/ai-in-action-june-2025/',\n",
       "  'content': 'capabilities, Box empowers businesses to transform raw information into proactive decision-making tools. The report demonstrates how AI can seamlessly integrate into daily operations, helping companies stay organized, secure, and efficient in handling their data-driven content. [...] IBM and Roche have introduced the Accu‑Chek SmartGuide Predict app, which uses AI to forecast blood sugar trends up to two hours ahead, working alongside Roche’s continuous glucose monitor. It offers features like Glucose Predict for two-hour trend visualization, Low Glucose Predict alerts before hypoglycemic events, and a Night Low Predict to guard against overnight risks. By anticipating glucose fluctuations, the app empowers users to adjust meals, insulin, or activity proactively — [...] [The Times](https://www.thetimes.com/uk/education/article/spend-third-of-lessons-teaching-ai-says-economist-xv07vtd57?utm_source=chatgpt.com&region=global)\\n\\n**AI Spotlight**\\n\\n[![](https://www.technet.org/wp-content/uploads/2025/06/unnamed-2-600x292.jpg)](https://www.box.com/state-of-ai)\\n\\n![](https://www.technet.org/wp-content/uploads/2025/06/unnamed-2-600x292.jpg)',\n",
       "  'score': 0.8145405}]"
      ]
     },
     "execution_count": 3,
     "metadata": {},
     "output_type": "execute_result"
    }
   ],
   "source": [
    "tavily = TavilySearchResults()\n",
    "tavily.invoke(\"Provide me the recent AI news for 25 June 2025\")"
   ]
  },
  {
   "cell_type": "code",
   "execution_count": 11,
   "metadata": {},
   "outputs": [],
   "source": [
    "llm = ChatGroq(model=\"qwen-qwq-32b\")\n",
    "\n",
    "tools = [arxiv, wiki, tavily]\n",
    "\n",
    "llm_with_tools = llm.bind_tools(tools)"
   ]
  },
  {
   "cell_type": "code",
   "execution_count": 12,
   "metadata": {},
   "outputs": [
    {
     "data": {
      "text/plain": [
       "AIMessage(content='', additional_kwargs={'reasoning_content': 'Okay, the user is asking for recent AI news. I need to find the most up-to-date information. Let me check which tools are available. There\\'s arxiv for academic papers, Wikipedia for general info, and Tavily\\'s search results. Since they want recent news, Tavily\\'s search results would be best because it can provide current articles. I\\'ll use that. The function name is tavily_search_results_json, and the query should be \"recent AI news\". Let me format the tool call correctly.\\n', 'tool_calls': [{'id': 'jkrr10ykp', 'function': {'arguments': '{\"query\":\"recent AI news\"}', 'name': 'tavily_search_results_json'}, 'type': 'function'}]}, response_metadata={'token_usage': {'completion_tokens': 134, 'prompt_tokens': 268, 'total_tokens': 402, 'completion_time': 0.329564848, 'prompt_time': 0.015548811, 'queue_time': 0.070156024, 'total_time': 0.345113659}, 'model_name': 'qwen-qwq-32b', 'system_fingerprint': 'fp_98b01f25b2', 'finish_reason': 'tool_calls', 'logprobs': None}, id='run--eceea382-7ff2-4a15-93a3-b0a82db02bdd-0', tool_calls=[{'name': 'tavily_search_results_json', 'args': {'query': 'recent AI news'}, 'id': 'jkrr10ykp', 'type': 'tool_call'}], usage_metadata={'input_tokens': 268, 'output_tokens': 134, 'total_tokens': 402})"
      ]
     },
     "execution_count": 12,
     "metadata": {},
     "output_type": "execute_result"
    }
   ],
   "source": [
    "\n",
    "llm_with_tools.invoke([HumanMessage(content=f\"What is the recent AI News\")])"
   ]
  },
  {
   "cell_type": "code",
   "execution_count": 13,
   "metadata": {},
   "outputs": [
    {
     "data": {
      "text/plain": [
       "[{'name': 'tavily_search_results_json',\n",
       "  'args': {'query': 'recent AI news'},\n",
       "  'id': 'qswd8k29k',\n",
       "  'type': 'tool_call'}]"
      ]
     },
     "execution_count": 13,
     "metadata": {},
     "output_type": "execute_result"
    }
   ],
   "source": [
    "llm_with_tools.invoke([HumanMessage(content=f\"What is the recent AI News\")]).tool_calls"
   ]
  },
  {
   "cell_type": "code",
   "execution_count": 15,
   "metadata": {},
   "outputs": [],
   "source": [
    "## State Schema\n",
    "from typing_extensions import TypedDict\n",
    "from langchain_core.messages import AnyMessage\n",
    "from typing import Annotated\n",
    "from langgraph.graph.message import add_messages\n",
    "\n",
    "class State(TypedDict):\n",
    "    messages: Annotated[list[AnyMessage], add_messages]"
   ]
  },
  {
   "cell_type": "code",
   "execution_count": 16,
   "metadata": {},
   "outputs": [
    {
     "data": {
      "image/png": "[encoded data removed]",
      "text/plain": [
       "<IPython.core.display.Image object>"
      ]
     },
     "metadata": {},
     "output_type": "display_data"
    }
   ],
   "source": [
    "### Entire Chatbot With LangGraph\n",
    "from IPython.display import Image, display\n",
    "from langgraph.graph import StateGraph, START, END\n",
    "from langgraph.prebuilt import ToolNode\n",
    "from langgraph.prebuilt import tools_condition\n",
    "\n",
    "### Node definition\n",
    "def tool_calling_llm(state: State):\n",
    "    return {\"messages\":[llm_with_tools.invoke(state[\"messages\"])]}\n",
    "\n",
    "# Build graph\n",
    "builder = StateGraph(State)\n",
    "builder.add_node(\"tool_calling_llm\", tool_calling_llm)\n",
    "builder.add_node(\"tools\", ToolNode(tools))\n",
    "\n",
    "builder.add_edge(START, \"tool_calling_llm\")\n",
    "builder.add_conditional_edges(\n",
    "    \"tool_calling_llm\",\n",
    "    # If the latest message (result) from assistant is a tool call -> tools_condition routes to tools\n",
    "    # If the latest message (result) from assistant is a not a tool call -> tools_condition routes to END\n",
    "    tools_condition,\n",
    ")\n",
    "builder.add_edge(\"tools\", END)\n",
    "\n",
    "\n",
    "graph = builder.compile()\n",
    "\n",
    "# View\n",
    "display(Image(graph.get_graph().draw_mermaid_png()))\n"
   ]
  },
  {
   "cell_type": "code",
   "execution_count": 17,
   "metadata": {},
   "outputs": [
    {
     "name": "stdout",
     "output_type": "stream",
     "text": [
      "================================\u001b[1m Human Message \u001b[0m=================================\n",
      "\n",
      "1706.03762\n",
      "==================================\u001b[1m Ai Message \u001b[0m==================================\n",
      "Tool Calls:\n",
      "  arxiv (kx7aq4czn)\n",
      " Call ID: kx7aq4czn\n",
      "  Args:\n",
      "    query: 1706.03762\n",
      "=================================\u001b[1m Tool Message \u001b[0m=================================\n",
      "Name: arxiv\n",
      "\n",
      "Published: 2023-08-02\n",
      "Title: Attention Is All You Need\n",
      "Authors: Ashish Vaswani, Noam Shazeer, Niki Parmar, Jakob Uszkoreit, Llion Jones, Aidan N. Gomez, Lukasz Kaiser, Illia Polosukhin\n",
      "Summary: The dominant sequence transduction models are based on complex recurrent or\n",
      "convolutional neural networks in an encoder-decoder configuration. The best\n",
      "performing models also connect the encoder and decoder through an attention\n",
      "mechanism. We propose a new simple network architecture, the Transformer, base\n"
     ]
    }
   ],
   "source": [
    "messages = graph.invoke({\"messages\": HumanMessage(content=\"1706.03762\")})\n",
    "for m in messages['messages']:\n",
    "    m.pretty_print()"
   ]
  },
  {
   "cell_type": "code",
   "execution_count": 18,
   "metadata": {},
   "outputs": [
    {
     "name": "stdout",
     "output_type": "stream",
     "text": [
      "================================\u001b[1m Human Message \u001b[0m=================================\n",
      "\n",
      "Provide me the top 10 recent AI news for 25th June 2025 -- in short bullet points\n",
      "==================================\u001b[1m Ai Message \u001b[0m==================================\n",
      "Tool Calls:\n",
      "  tavily_search_results_json (kyzehn0mt)\n",
      " Call ID: kyzehn0mt\n",
      "  Args:\n",
      "    query: Top 10 recent AI news articles from June 25, 2025\n",
      "=================================\u001b[1m Tool Message \u001b[0m=================================\n",
      "Name: tavily_search_results_json\n",
      "\n",
      "[{\"title\": \"AI Daily by Techsutra — June 25, 2025 | by TechNaut - Medium\", \"url\": \"https://medium.com/techsutra/ai-daily-by-techsutra-june-25-2025-59df323db21e\", \"content\": \"**📘 Progress Semaphore Upgrades Enterprise AI**  \\n New release includes model builders, semantic knowledge graphs, and AI-ready compliance tools.  \\n 📎 Source: globenewswire.com/news-release/2025/06/25/3105115\\n\\n**📊 Ontario’s $187B AI Wake-Up Call**  \\n The Ontario Chamber of Commerce + Microsoft urge urgent action to adopt AI or risk losing billions in future GDP.  \\n 📎 Source: occ.ca/mediareleases/future-proofing-ontario-seizing-ais-economic-potential [...] **🛍️ BigCommerce x Feedonomics x Perplexity**  \\n A major AI e-commerce alliance promises smarter, more relevant product discovery.  \\n 📎 Source: opentools.ai/news\\n\\n**🧠 Johnson & Johnson MedTech’s AI Surgery Fund**  \\n Launching the **Polyphonic™ AI Fund**, in collaboration with AWS and NVIDIA, to power the next wave of surgical AI innovation.  \\n 📎 Source: jnj.com/media-center/press-releases/johnson-johnson-launches-thepolyphonictm-ai-fund-for-surgery-to-advance-data-driven-healthcare [...] **🍏 Apple May Acquire Perplexity AI**  \\n The tech giant is exploring a strategic acquisition of Perplexity to boost Siri and on-device intelligence.  \\n 📎 Source: opentools.ai/news\\n\\n**🌐 Perplexity Expands Comet + Launches WhatsApp Tasking**  \\n Comet browser arrives on Windows. Also: new integration lets you schedule tasks directly in WhatsApp.  \\n 📎 Source: opentools.ai/news\", \"score\": 0.9524019}, {\"title\": \"Artificial Intelligence - The New York Times\", \"url\": \"https://www.nytimes.com/spotlight/artificial-intelligence\", \"content\": \"## [Latest](#stream-panel)\\n\\n![](https://static01.nyt.com/images/2025/06/25/multimedia/25db-newsletter-altman-cwzj/25db-newsletter-altman-cwzj-square320.jpg?quality=75&auto=webp&disable=upscale)\\n\\n### OpenAI’s Self-Driving Ambitions\\n\\nThe artificial intelligence company has set many challenging goals. Autonomous vehicle software is now among them — but may pit the company against Tesla.\\n\\nBy Andrew Ross Sorkin, Bernhard Warner, Sarah Kessler, Michael J. de la Merced and Danielle Kaye [...] [Don’t Let Silicon Valley Move Fast and Break Children’s Minds](/2025/06/25/opinion/silicon-valley-ai-mattel.html)\\n\\nThe federal government needs to step up and regulate artificial intelligence now.\\n\\n By Jessica Grose\\n\\n![](https://static01.nyt.com/images/2025/06/25/opinion/25grose-newsletter-image/25grose-newsletter-image-square640.jpg?auto=webp)\\n\\n[Sketched Out: An Illustrator Confronts His Fears About A.I. Art](/interactive/2025/06/23/magazine/ai-art-artists-illustrator.html) [...] ![](https://static01.nyt.com/images/2025/06/25/multimedia/25biz-hard-fork-qwbv/25biz-hard-fork-qwbv-square320.jpg?quality=75&auto=webp&disable=upscale)\\n\\n### Takeaways From Hard Fork’s Interview With OpenAI’s Sam Altman\\n\\nMr. Altman discussed President Trump’s understanding of artificial intelligence, the war for A.I. talent and OpenAI’s relationship with Microsoft.\\n\\nBy Natallie Rocha\", \"score\": 0.9170729}, {\"title\": \"Artificial intelligence (AI) | The Guardian\", \"url\": \"https://www.theguardian.com/technology/artificialintelligenceai\", \"content\": \"![](https://sb.scorecardresearch.com/p?c1=2&c2=6035250&cv=2.0&cj=1&cs_ucfr=0&comscorekw=technology)\\n\\n## Artificial intelligence (AI)\\n\\n## 25 June 2025\\n\\n![A smartphone screen says 'Welcome to Claude'](https://i.guim.co.uk/img/media/fa34b7fa4b1128132c4cb04504f8108b473af0c8/542_0_5417_4334/master/5417.jpg?width=120&dpr=1&s=none&crop=5%3A3)\\n\\n### Anthropic did not breach copyright when training AI on books without permission, court rules [...] ### Can you really find true love online, or is it artificial?\\n\\n![Matt Clifford](https://i.guim.co.uk/img/media/852ec2a6836480a45df3ced8fc2d4b4204eb9886/155_0_2073_1659/master/2073.jpg?width=465&dpr=1&s=none&crop=5%3A3)\\n\\n### Keir Starmer’s AI tsar to step down after six months in role\\n\\n![BBC Broadcasting House in London](https://i.guim.co.uk/img/media/31df7ea810a7125c31c6ffde85d271f3ce646886/816_309_5183_4149/master/5183.jpg?width=465&dpr=1&s=none&crop=5%3A3)\", \"score\": 0.89720124}, {\"title\": \"Artificial Intelligence - AI News - Reuters\", \"url\": \"https://www.reuters.com/technology/artificial-intelligence/\", \"content\": \"Technology June 25, 2025 · 2:56 AM PDT. Scientists use AI in the fight against mosquito-borne diseases. At the University of South Florida, researchers are\", \"score\": 0.89567816}, {\"title\": \"Top tech news today: 25 June, 2025 - BTW Media\", \"url\": \"https://btw.media/news/top-tech-news-today-25-june-2025/\", \"content\": \"The Netherlands has launched a bid to host a European AI supercomputing centre, aiming to boost its tech capabilities and attract investment in artificial intelligence. [Source](https://www.telecoms.com/ai/netherlands-launches-bid-to-host-european-ai-supercomputing-centre)\\n\\n## 3. Wessex Internet secures $58M investment [...] The tech newsletter you cannot do without, covering the people, the companies and the insights you need to stay ahead.\\n\\nSign up today to get a free copy of our ebook, \\\"IP Addresses: The new Digital Gold\\\", detailing one of the most exciting tech investment opportunities of the next few years.\\n\\n# Top tech news today: 25 June, 2025\\n\\n![google-AI](https://btw.media/wp-content/uploads/2025/06/1_VqQ3yN7IbUuIRwXEE4DSlA.webp)\\n\\n## 1. TalkTalk explores splitting network units [...] Vultr has secured $329 million in credit to expand its cloud and AI services, aiming to strengthen its position in the global market. [Source](https://www.hpcwire.com/off-the-wire/vultr-raises-329m-in-credit-to-expand-cloud-and-ai-footprint/)\\n\\n## 13. Colt DCS achieves 90% renewable energy use\", \"score\": 0.89501935}]\n"
     ]
    }
   ],
   "source": [
    "messages = graph.invoke({\"messages\": HumanMessage(content=\"Provide me the top 10 recent AI news for 25th June 2025 -- in short bullet points\")})\n",
    "for m in messages['messages']:\n",
    "    m.pretty_print()"
   ]
  },
  {
   "cell_type": "code",
   "execution_count": 34,
   "metadata": {},
   "outputs": [
    {
     "data": {
      "text/markdown": [
       "**📘 Progress Semaphore Upgrades Enterprise AI**  \n",
       " New release includes model builders, semantic knowledge graphs, and AI-ready compliance tools.  \n",
       " 📎 Source: globenewswire.com/news-release/2025/06/25/3105115\n",
       "\n",
       "**📊 Ontario’s $187B AI Wake-Up Call**  \n",
       " The Ontario Chamber of Commerce + Microsoft urge urgent action to adopt AI or risk losing billions in future GDP.  \n",
       " 📎 Source: occ.ca/mediareleases/future-proofing-ontario-seizing-ais-economic-potential [...] **🛍️ BigCommerce x Feedonomics x Perplexity**  \n",
       " A major AI e-commerce alliance promises smarter, more relevant product discovery.  \n",
       " 📎 Source: opentools.ai/news\n",
       "\n",
       "**🧠 Johnson & Johnson MedTech’s AI Surgery Fund**  \n",
       " Launching the **Polyphonic™ AI Fund**, in collaboration with AWS and NVIDIA, to power the next wave of surgical AI innovation.  \n",
       " 📎 Source: jnj.com/media-center/press-releases/johnson-johnson-launches-thepolyphonictm-ai-fund-for-surgery-to-advance-data-driven-healthcare [...] **🍏 Apple May Acquire Perplexity AI**  \n",
       " The tech giant is exploring a strategic acquisition of Perplexity to boost Siri and on-device intelligence.  \n",
       " 📎 Source: opentools.ai/news\n",
       "\n",
       "**🌐 Perplexity Expands Comet + Launches WhatsApp Tasking**  \n",
       " Comet browser arrives on Windows. Also: new integration lets you schedule tasks directly in WhatsApp.  \n",
       " 📎 Source: opentools.ai/news\n"
      ],
      "text/plain": [
       "<IPython.core.display.Markdown object>"
      ]
     },
     "metadata": {},
     "output_type": "display_data"
    }
   ],
   "source": [
    "import json\n",
    "from IPython.display import display, Markdown\n",
    "\n",
    "news = json.loads(m.content)\n",
    "news = \"\\n\".join(n['content'] for n in news)\n",
    "news = news.split(\"## [Latest](#stream-panel)\")[0]\n",
    "display(Markdown(news))"
   ]
  },
  {
   "cell_type": "code",
   "execution_count": 36,
   "metadata": {},
   "outputs": [
    {
     "name": "stdout",
     "output_type": "stream",
     "text": [
      "================================\u001b[1m Human Message \u001b[0m=================================\n",
      "\n",
      "What is Machine Learning?\n",
      "==================================\u001b[1m Ai Message \u001b[0m==================================\n",
      "Tool Calls:\n",
      "  wikipedia (zmegq7e8h)\n",
      " Call ID: zmegq7e8h\n",
      "  Args:\n",
      "    query: Machine Learning\n",
      "=================================\u001b[1m Tool Message \u001b[0m=================================\n",
      "Name: wikipedia\n",
      "\n",
      "Page: Machine learning\n",
      "Summary: Machine learning (ML) is a field of study in artificial intelligence concerned with the development and study of statistical algorithms that can learn from data and generalise to unseen data, and thus perform tasks without explicit instructions. Within a subdiscipline in machine learning, advances in the field of deep learning have allowed neural networks, a class of statistical algorithms, to surpass many previous machine learning approaches in performance.\n",
      "ML fi\n"
     ]
    }
   ],
   "source": [
    "messages = graph.invoke({\"messages\": HumanMessage(content=\"What is Machine Learning?\")})\n",
    "for m in messages['messages']:\n",
    "    m.pretty_print()"
   ]
  },
  {
   "cell_type": "code",
   "execution_count": null,
   "metadata": {},
   "outputs": [],
   "source": []
  }
 ],
 "metadata": {
  "kernelspec": {
   "display_name": "venv",
   "language": "python",
   "name": "python3"
  },
  "language_info": {
   "codemirror_mode": {
    "name": "ipython",
    "version": 3
   },
   "file_extension": ".py",
   "mimetype": "text/x-python",
   "name": "python",
   "nbconvert_exporter": "python",
   "pygments_lexer": "ipython3",
   "version": "3.12.10"
  }
 },
 "nbformat": 4,
 "nbformat_minor": 2
}
